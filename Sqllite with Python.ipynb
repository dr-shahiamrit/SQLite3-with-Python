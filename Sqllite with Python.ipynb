{
 "cells": [
  {
   "cell_type": "code",
   "execution_count": 11,
   "id": "06ccb68f-8a7e-4bbf-920d-df2ae760b6b9",
   "metadata": {
    "tags": []
   },
   "outputs": [],
   "source": [
    "import sqlite3 as s3"
   ]
  },
  {
   "cell_type": "code",
   "execution_count": 54,
   "id": "c6662d51-99a2-41c9-92de-914b19903c3c",
   "metadata": {
    "tags": []
   },
   "outputs": [
    {
     "data": {
      "text/plain": [
       "'2.6.0'"
      ]
     },
     "execution_count": 54,
     "metadata": {},
     "output_type": "execute_result"
    }
   ],
   "source": [
    "s3.version"
   ]
  },
  {
   "cell_type": "code",
   "execution_count": 55,
   "id": "3beeaca3-7f23-4d69-bddf-58d4dae9f970",
   "metadata": {
    "tags": []
   },
   "outputs": [],
   "source": [
    "conn = s3.connect('userOrder.db')"
   ]
  },
  {
   "cell_type": "code",
   "execution_count": 18,
   "id": "5ed63179-1df6-4e30-a0f4-f455c3ff3363",
   "metadata": {
    "tags": []
   },
   "outputs": [],
   "source": [
    "#dir(conn)"
   ]
  },
  {
   "cell_type": "code",
   "execution_count": 27,
   "id": "9525452f-64b2-494c-8205-ab532dc868b3",
   "metadata": {
    "tags": []
   },
   "outputs": [],
   "source": [
    "cur = conn.cursor()"
   ]
  },
  {
   "cell_type": "code",
   "execution_count": 45,
   "id": "b4353b8a-07ce-46eb-b665-1ad0ca8f8930",
   "metadata": {
    "tags": []
   },
   "outputs": [],
   "source": [
    "userTable = \"\"\"CREATE TABLE IF NOT EXISTS users(\n",
    "    userid INT PRIMARY KEY,\n",
    "    fname TEXT,\n",
    "    lname TEXT,\n",
    "    gender TEXT);\n",
    "    \"\"\"\n",
    "orderTable = \"\"\"CREATE TABLE IF NOT EXISTS orders(\n",
    "    orderid INT PRIMARY KEY,\n",
    "    date TEXT,\n",
    "    userid TEXT,\n",
    "    total TEXT);\n",
    "    \"\"\""
   ]
  },
  {
   "cell_type": "code",
   "execution_count": 46,
   "id": "4d6eabb8-0e1e-4a20-91ec-913e2fcbbcd6",
   "metadata": {
    "tags": []
   },
   "outputs": [],
   "source": [
    "cur.execute(userTable)\n",
    "conn.commit()\n",
    "cur.execute(orderTable)\n",
    "conn.commit()"
   ]
  },
  {
   "cell_type": "code",
   "execution_count": 58,
   "id": "2e2e7dc6-d875-4ca4-b378-05894383b77d",
   "metadata": {
    "tags": []
   },
   "outputs": [
    {
     "data": {
      "text/plain": [
       "'\\ncur.execute(\"SELECT * FROM users\")\\nrecord = cur.fetchone()\\nprint(record)\\n'"
      ]
     },
     "execution_count": 58,
     "metadata": {},
     "output_type": "execute_result"
    }
   ],
   "source": [
    "cur.execute(\"SELECT * FROM users\").fetchone()\n",
    "cur.execute(\"SELECT * FROM orders\").fetchone()\n",
    "#OR\n",
    "'''\n",
    "cur.execute(\"SELECT * FROM users\")\n",
    "record = cur.fetchone()\n",
    "print(record)\n",
    "'''\n"
   ]
  },
  {
   "cell_type": "code",
   "execution_count": 59,
   "id": "c237bcb0-5509-4596-b3ab-7314c946553a",
   "metadata": {
    "tags": []
   },
   "outputs": [
    {
     "ename": "IntegrityError",
     "evalue": "UNIQUE constraint failed: users.userid",
     "output_type": "error",
     "traceback": [
      "\u001b[0;31m---------------------------------------------------------------------------\u001b[0m",
      "\u001b[0;31mIntegrityError\u001b[0m                            Traceback (most recent call last)",
      "Cell \u001b[0;32mIn[59], line 3\u001b[0m\n\u001b[1;32m      1\u001b[0m row1 \u001b[38;5;241m=\u001b[39m \u001b[38;5;124m\"\"\"\u001b[39m\u001b[38;5;124m INSERT INTO users(userid, fname, lname, gender) VALUES(\u001b[39m\u001b[38;5;124m'\u001b[39m\u001b[38;5;124m0001\u001b[39m\u001b[38;5;124m'\u001b[39m\u001b[38;5;124m, \u001b[39m\u001b[38;5;124m'\u001b[39m\u001b[38;5;124mamrit\u001b[39m\u001b[38;5;124m'\u001b[39m\u001b[38;5;124m, \u001b[39m\u001b[38;5;124m'\u001b[39m\u001b[38;5;124mshahi\u001b[39m\u001b[38;5;124m'\u001b[39m\u001b[38;5;124m, \u001b[39m\u001b[38;5;124m'\u001b[39m\u001b[38;5;124mmale\u001b[39m\u001b[38;5;124m'\u001b[39m\u001b[38;5;124m)\u001b[39m\n\u001b[1;32m      2\u001b[0m \u001b[38;5;124m\"\"\"\u001b[39m\n\u001b[0;32m----> 3\u001b[0m \u001b[43mcur\u001b[49m\u001b[38;5;241;43m.\u001b[39;49m\u001b[43mexecute\u001b[49m\u001b[43m(\u001b[49m\u001b[43mrow1\u001b[49m\u001b[43m)\u001b[49m\n\u001b[1;32m      4\u001b[0m conn\u001b[38;5;241m.\u001b[39mcommit()\n",
      "\u001b[0;31mIntegrityError\u001b[0m: UNIQUE constraint failed: users.userid"
     ]
    }
   ],
   "source": [
    "row1 = \"\"\" INSERT INTO users(userid, fname, lname, gender) VALUES('0001', 'amrit', 'shahi', 'male')\n",
    "\"\"\"\n",
    "cur.execute(row1)\n",
    "conn.commit()"
   ]
  },
  {
   "cell_type": "code",
   "execution_count": 60,
   "id": "75fd6ad1-8e0d-4f66-b333-db2ddda7aad9",
   "metadata": {
    "tags": []
   },
   "outputs": [
    {
     "data": {
      "text/plain": [
       "(1, 'amrit', 'shahi', 'male')"
      ]
     },
     "execution_count": 60,
     "metadata": {},
     "output_type": "execute_result"
    }
   ],
   "source": [
    "cur.execute(\"SELECT * FROM users\").fetchone()"
   ]
  },
  {
   "cell_type": "code",
   "execution_count": 64,
   "id": "0c41376a-c22c-43ad-9ee5-0e5d13ef9c68",
   "metadata": {
    "tags": []
   },
   "outputs": [
    {
     "ename": "IntegrityError",
     "evalue": "UNIQUE constraint failed: users.userid",
     "output_type": "error",
     "traceback": [
      "\u001b[0;31m---------------------------------------------------------------------------\u001b[0m",
      "\u001b[0;31mIntegrityError\u001b[0m                            Traceback (most recent call last)",
      "Cell \u001b[0;32mIn[64], line 4\u001b[0m\n\u001b[1;32m      2\u001b[0m row2 \u001b[38;5;241m=\u001b[39m (\u001b[38;5;124m'\u001b[39m\u001b[38;5;124m0002\u001b[39m\u001b[38;5;124m'\u001b[39m, \u001b[38;5;124m'\u001b[39m\u001b[38;5;124mLoise\u001b[39m\u001b[38;5;124m'\u001b[39m, \u001b[38;5;124m'\u001b[39m\u001b[38;5;124mLane\u001b[39m\u001b[38;5;124m'\u001b[39m, \u001b[38;5;124m'\u001b[39m\u001b[38;5;124mfemale\u001b[39m\u001b[38;5;124m'\u001b[39m)\n\u001b[1;32m      3\u001b[0m \u001b[38;5;66;03m# insert\u001b[39;00m\n\u001b[0;32m----> 4\u001b[0m \u001b[43mcur\u001b[49m\u001b[38;5;241;43m.\u001b[39;49m\u001b[43mexecute\u001b[49m\u001b[43m(\u001b[49m\u001b[38;5;124;43m\"\u001b[39;49m\u001b[38;5;124;43mINSERT INTO users VALUES(?, ?, ?, ?);\u001b[39;49m\u001b[38;5;124;43m\"\u001b[39;49m\u001b[43m,\u001b[49m\u001b[43m \u001b[49m\u001b[43mrow2\u001b[49m\u001b[43m)\u001b[49m\n\u001b[1;32m      5\u001b[0m conn\u001b[38;5;241m.\u001b[39mcommit()\n",
      "\u001b[0;31mIntegrityError\u001b[0m: UNIQUE constraint failed: users.userid"
     ]
    }
   ],
   "source": [
    "# another way to insert\n",
    "row2 = ('0002', 'Loise', 'Lane', 'female')\n",
    "# insert\n",
    "cur.execute(\"INSERT INTO users VALUES(?, ?, ?, ?);\", row2)\n",
    "conn.commit()\n"
   ]
  },
  {
   "cell_type": "code",
   "execution_count": 65,
   "id": "3f16ede9-d9b9-4dbb-b540-3f9f28210e00",
   "metadata": {
    "tags": []
   },
   "outputs": [
    {
     "data": {
      "text/plain": [
       "[(1, 'amrit', 'shahi', 'male')]"
      ]
     },
     "execution_count": 65,
     "metadata": {},
     "output_type": "execute_result"
    }
   ],
   "source": [
    "# load rows\n",
    "cur.execute(\"SELECT * FROM users\").fetchmany()"
   ]
  },
  {
   "cell_type": "code",
   "execution_count": 66,
   "id": "e1910137-cf45-47f9-9bc5-64aed603a406",
   "metadata": {
    "tags": []
   },
   "outputs": [
    {
     "data": {
      "text/plain": [
       "[(1, 'amrit', 'shahi', 'male'), (2, 'Loise', 'Lane', 'female')]"
      ]
     },
     "execution_count": 66,
     "metadata": {},
     "output_type": "execute_result"
    }
   ],
   "source": [
    "cur.execute(\"SELECT * FROM users\").fetchmany(2)"
   ]
  },
  {
   "cell_type": "code",
   "execution_count": 67,
   "id": "a549593d-e87b-426c-b82c-6a9d42d2a6e4",
   "metadata": {
    "tags": []
   },
   "outputs": [
    {
     "data": {
      "text/plain": [
       "[(1, 'amrit', 'shahi', 'male'), (2, 'Loise', 'Lane', 'female')]"
      ]
     },
     "execution_count": 67,
     "metadata": {},
     "output_type": "execute_result"
    }
   ],
   "source": [
    "cur.execute(\"SELECT * FROM users\").fetchall()"
   ]
  },
  {
   "cell_type": "code",
   "execution_count": 68,
   "id": "de449f55-2ba8-41fe-a6e9-a7858412354c",
   "metadata": {
    "tags": []
   },
   "outputs": [
    {
     "data": {
      "text/plain": [
       "[]"
      ]
     },
     "execution_count": 68,
     "metadata": {},
     "output_type": "execute_result"
    }
   ],
   "source": [
    "cur.execute(\"SELECT * FROM orders\").fetchall()"
   ]
  },
  {
   "cell_type": "code",
   "execution_count": null,
   "id": "98004c8e-ff8f-439c-b5c4-d9f581267dc8",
   "metadata": {},
   "outputs": [],
   "source": []
  }
 ],
 "metadata": {
  "kernelspec": {
   "display_name": "Python 3 (ipykernel)",
   "language": "python",
   "name": "python3"
  },
  "language_info": {
   "codemirror_mode": {
    "name": "ipython",
    "version": 3
   },
   "file_extension": ".py",
   "mimetype": "text/x-python",
   "name": "python",
   "nbconvert_exporter": "python",
   "pygments_lexer": "ipython3",
   "version": "3.10.12"
  },
  "widgets": {
   "application/vnd.jupyter.widget-state+json": {
    "state": {},
    "version_major": 2,
    "version_minor": 0
   }
  }
 },
 "nbformat": 4,
 "nbformat_minor": 5
}
